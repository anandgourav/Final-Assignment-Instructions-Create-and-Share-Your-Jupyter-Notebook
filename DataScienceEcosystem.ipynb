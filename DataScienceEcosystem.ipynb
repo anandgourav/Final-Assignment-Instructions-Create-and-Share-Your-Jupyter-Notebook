{
 "cells": [
  {
   "cell_type": "markdown",
   "id": "08bbe058-c575-4aeb-9c25-180bc8698d1f",
   "metadata": {},
   "source": [
    "#Data Science Tools and Ecosystem"
   ]
  },
  {
   "cell_type": "markdown",
   "id": "a4411bcd-0d78-492f-83f7-e66b66a383d8",
   "metadata": {},
   "source": [
    "##In this notebook, Data Science Tools and Ecosystem are summarized."
   ]
  },
  {
   "cell_type": "markdown",
   "id": "68d419f7-f3bb-419d-99d6-7a742425f116",
   "metadata": {},
   "source": [
    "**Objectives:**\n",
    "*Some of the popular languages that Data Scientists use.\n",
    "*Some of the commonly used libraries used by Data Scientists.\n",
    "*Some of the commonly used libraries used by Data Scientists.\n"
   ]
  },
  {
   "cell_type": "markdown",
   "id": "2b890640-cad2-48a9-a643-ad5ad8948b17",
   "metadata": {},
   "source": [
    "###Some of the popular languages that Data Scientists use are:\n",
    "1. Python\n",
    "2. Java\n",
    "3. C++\n",
    "4. Julia"
   ]
  },
  {
   "cell_type": "markdown",
   "id": "cdef483a-7dcf-45bc-b1b4-53c4626a4ff7",
   "metadata": {},
   "source": [
    "###Some of the commonly used libraries used by Data Scientists include:\n",
    "1. Pandas\n",
    "2. Numpy\n",
    "3. Matplotlib\n",
    "4. Scikitlearn"
   ]
  },
  {
   "cell_type": "markdown",
   "id": "a80a16df-08fc-4da1-99cc-01e6affb4d41",
   "metadata": {},
   "source": [
    "|Data Science Tools|\n",
    "|-------|\n",
    "|My SQL|\n",
    "|Apache AirFlow|\n",
    "|Hue|"
   ]
  },
  {
   "cell_type": "markdown",
   "id": "6c7b40a2-0944-43aa-be65-4dd27a22448a",
   "metadata": {},
   "source": [
    "####This a simple arithmetic expression to mutiply then add integers"
   ]
  },
  {
   "cell_type": "code",
   "execution_count": null,
   "id": "29b2082d-5e44-4df5-be32-dc94311e2148",
   "metadata": {},
   "outputs": [],
   "source": [
    "(3*4)+5"
   ]
  },
  {
   "cell_type": "markdown",
   "id": "b464053c-20c2-4580-83a4-c70a49a665ef",
   "metadata": {},
   "source": [
    "####This will convert 200 minutes to hours by diving by 60.\n",
    "'Hours' = 'Minutes'/'60'"
   ]
  },
  {
   "cell_type": "code",
   "execution_count": null,
   "id": "058c58c8-9eb8-4cde-8014-77a13afe4648",
   "metadata": {},
   "outputs": [],
   "source": [
    "200/60"
   ]
  },
  {
   "cell_type": "markdown",
   "id": "702559d5-141b-4d43-a67e-6338d2cda5dd",
   "metadata": {},
   "source": [
    "##Author <br> Gourav Anand"
   ]
  },
  {
   "cell_type": "code",
   "execution_count": null,
   "id": "949f215f-6ad9-4a1e-b506-be8488a72290",
   "metadata": {},
   "outputs": [],
   "source": []
  }
 ],
 "metadata": {
  "kernelspec": {
   "display_name": "Python 3 (ipykernel)",
   "language": "python",
   "name": "python3"
  },
  "language_info": {
   "codemirror_mode": {
    "name": "ipython",
    "version": 3
   },
   "file_extension": ".py",
   "mimetype": "text/x-python",
   "name": "python",
   "nbconvert_exporter": "python",
   "pygments_lexer": "ipython3",
   "version": "3.11.7"
  }
 },
 "nbformat": 4,
 "nbformat_minor": 5
}
